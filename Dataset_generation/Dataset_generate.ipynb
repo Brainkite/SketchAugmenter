{
 "cells": [
  {
   "cell_type": "code",
   "execution_count": 1,
   "metadata": {
    "Collapsed": "false"
   },
   "outputs": [],
   "source": [
    "from Dexined_model import *\n",
    "from PIL import Image\n",
    "from pathlib import Path\n",
    "import numpy as np\n",
    "import matplotlib.pyplot as plt\n",
    "Path.ls = lambda x: list(x.iterdir())"
   ]
  },
  {
   "cell_type": "code",
   "execution_count": 44,
   "metadata": {
    "Collapsed": "false"
   },
   "outputs": [
    {
     "data": {
      "text/plain": [
       "202"
      ]
     },
     "execution_count": 44,
     "metadata": {},
     "output_type": "execute_result"
    }
   ],
   "source": [
    "src_imgs = Path().home()/'Datasets/buildings_sketch_dataset/Source/photos/pin_contempo2'\n",
    "len(src_imgs.ls())"
   ]
  },
  {
   "cell_type": "code",
   "execution_count": 3,
   "metadata": {
    "Collapsed": "false"
   },
   "outputs": [
    {
     "data": {
      "text/plain": [
       "[PosixPath('/Users/antoninsumner/0-trained_models/dexined-100e-pxshuff.pth'),\n",
       " PosixPath('/Users/antoninsumner/0-trained_models/dexined-100e-newloss.pth'),\n",
       " PosixPath('/Users/antoninsumner/0-trained_models/rednet-50e.pth')]"
      ]
     },
     "execution_count": 3,
     "metadata": {},
     "output_type": "execute_result"
    }
   ],
   "source": [
    "src_saved = Path().home()/'0-trained_models'\n",
    "src_saved.ls()"
   ]
  },
  {
   "cell_type": "code",
   "execution_count": 4,
   "metadata": {
    "Collapsed": "false"
   },
   "outputs": [],
   "source": [
    "p = Path().home().absolute()/'Datasets/buildings_sketch_dataset/dataset'"
   ]
  },
  {
   "cell_type": "markdown",
   "metadata": {
    "Collapsed": "false"
   },
   "source": [
    "# Load DexiNed pretrained model"
   ]
  },
  {
   "cell_type": "code",
   "execution_count": 5,
   "metadata": {
    "Collapsed": "false"
   },
   "outputs": [],
   "source": [
    "dexined_model = DexiNet(up_mode='pixel_shuffle')"
   ]
  },
  {
   "cell_type": "code",
   "execution_count": 6,
   "metadata": {
    "Collapsed": "false"
   },
   "outputs": [],
   "source": [
    "state = torch.load(src_saved/'dexined-100e-newloss.pth', map_location=torch.device('cpu'))['model']"
   ]
  },
  {
   "cell_type": "code",
   "execution_count": 7,
   "metadata": {
    "Collapsed": "false"
   },
   "outputs": [
    {
     "data": {
      "text/plain": [
       "<All keys matched successfully>"
      ]
     },
     "execution_count": 7,
     "metadata": {},
     "output_type": "execute_result"
    }
   ],
   "source": [
    "dexined_model.load_state_dict(state)"
   ]
  },
  {
   "cell_type": "code",
   "execution_count": 8,
   "metadata": {
    "Collapsed": "false"
   },
   "outputs": [
    {
     "name": "stdout",
     "output_type": "stream",
     "text": [
      "\n"
     ]
    }
   ],
   "source": [
    "dexined_model.eval()\n",
    "print()"
   ]
  },
  {
   "cell_type": "markdown",
   "metadata": {
    "Collapsed": "false"
   },
   "source": [
    "# Utils"
   ]
  },
  {
   "cell_type": "code",
   "execution_count": 19,
   "metadata": {
    "Collapsed": "false"
   },
   "outputs": [],
   "source": [
    "def resize_same(img, size=512):\n",
    "    sz = np.array(img.size)\n",
    "    r = sz[-1] / sz[0]\n",
    "    nsz = [int(size * r**(-sz.argmax())), int(size * r**(1-sz.argmax()))]\n",
    "    return img.resize(nsz)"
   ]
  },
  {
   "cell_type": "code",
   "execution_count": 38,
   "metadata": {
    "Collapsed": "false"
   },
   "outputs": [],
   "source": [
    "def batch_one(img):\n",
    "    res = np.array(img)\n",
    "    print('array',res.shape)\n",
    "    res = torch.from_numpy(res).float()/255\n",
    "    if len(res.shape)==2: res = torch.stack(3*[res], dim=-1) \n",
    "    res = res.permute(2,0,1)\n",
    "    if res.shape[0]>3: res = res[:3,...]\n",
    "    res = torch.stack(2*[res])\n",
    "    print('Batch',res.shape)\n",
    "    return res"
   ]
  },
  {
   "cell_type": "code",
   "execution_count": 39,
   "metadata": {
    "Collapsed": "false"
   },
   "outputs": [],
   "source": [
    "def norm_tensor(x):\n",
    "    y = (x-x.min())/(x.max()-x.min())\n",
    "    y *= 255\n",
    "    return y"
   ]
  },
  {
   "cell_type": "code",
   "execution_count": 43,
   "metadata": {
    "Collapsed": "false"
   },
   "outputs": [
    {
     "data": {
      "text/plain": [
       "'71ce73be63732a25dc5509ffd1b16397'"
      ]
     },
     "execution_count": 43,
     "metadata": {},
     "output_type": "execute_result"
    }
   ],
   "source": [
    "(src_imgs.ls()[0]).stem"
   ]
  },
  {
   "cell_type": "code",
   "execution_count": 49,
   "metadata": {
    "Collapsed": "false"
   },
   "outputs": [],
   "source": [
    "def make_preds(m, fns, dest, img_size=512):\n",
    "    fns = [f for f in fns if not str(Path(f).name).startswith('.')]\n",
    "    assert dest.exists()\n",
    "    assert (dest/'imgs').exists()\n",
    "    assert (dest/'edgemaps').exists()\n",
    "    n =  max([int(f.stem) for f in (dest/'imgs').ls() if not str(f.stem).startswith('.')])\n",
    "    for i in range(len(fns)):\n",
    "        file = dest/f'imgs/{n+1+i}.png'\n",
    "        edge_file = dest/f'edgemaps/{n+1+i}.png'\n",
    "        print(file)\n",
    "        if file.exists(): continue\n",
    "        img = Image.open(fns[i])\n",
    "        img = resize_same(img, size=img_size)\n",
    "        img.save(str(file))\n",
    "        \n",
    "        b = batch_one(img)\n",
    "        y = m(b)\n",
    "        y = y[2][0,0,...].detach()\n",
    "        y = norm_tensor(y)\n",
    "        plt.imsave(str(edge_file), y, cmap='binary')\n"
   ]
  },
  {
   "cell_type": "markdown",
   "metadata": {
    "Collapsed": "false"
   },
   "source": [
    "# Generate files"
   ]
  },
  {
   "cell_type": "code",
   "execution_count": 50,
   "metadata": {
    "Collapsed": "false"
   },
   "outputs": [
    {
     "name": "stdout",
     "output_type": "stream",
     "text": [
      "/Users/antoninsumner/Datasets/buildings_sketch_dataset/dataset/imgs/390.png\n",
      "array (340, 512, 3)\n",
      "Batch torch.Size([2, 3, 340, 512])\n",
      "/Users/antoninsumner/Datasets/buildings_sketch_dataset/dataset/imgs/391.png\n",
      "array (361, 512, 3)\n",
      "Batch torch.Size([2, 3, 361, 512])\n",
      "/Users/antoninsumner/Datasets/buildings_sketch_dataset/dataset/imgs/392.png\n",
      "array (384, 512, 3)\n",
      "Batch torch.Size([2, 3, 384, 512])\n",
      "/Users/antoninsumner/Datasets/buildings_sketch_dataset/dataset/imgs/393.png\n",
      "array (465, 512, 3)\n",
      "Batch torch.Size([2, 3, 465, 512])\n",
      "/Users/antoninsumner/Datasets/buildings_sketch_dataset/dataset/imgs/394.png\n",
      "array (512, 358, 3)\n",
      "Batch torch.Size([2, 3, 512, 358])\n",
      "/Users/antoninsumner/Datasets/buildings_sketch_dataset/dataset/imgs/395.png\n",
      "array (433, 512, 3)\n",
      "Batch torch.Size([2, 3, 433, 512])\n",
      "/Users/antoninsumner/Datasets/buildings_sketch_dataset/dataset/imgs/396.png\n",
      "array (293, 512, 3)\n",
      "Batch torch.Size([2, 3, 293, 512])\n",
      "/Users/antoninsumner/Datasets/buildings_sketch_dataset/dataset/imgs/397.png\n",
      "array (512, 383, 3)\n",
      "Batch torch.Size([2, 3, 512, 383])\n",
      "/Users/antoninsumner/Datasets/buildings_sketch_dataset/dataset/imgs/398.png\n",
      "array (512, 341, 3)\n",
      "Batch torch.Size([2, 3, 512, 341])\n",
      "/Users/antoninsumner/Datasets/buildings_sketch_dataset/dataset/imgs/399.png\n",
      "array (512, 409, 3)\n",
      "Batch torch.Size([2, 3, 512, 409])\n",
      "/Users/antoninsumner/Datasets/buildings_sketch_dataset/dataset/imgs/400.png\n",
      "array (340, 512, 4)\n",
      "Batch torch.Size([2, 3, 340, 512])\n",
      "/Users/antoninsumner/Datasets/buildings_sketch_dataset/dataset/imgs/401.png\n",
      "array (341, 512, 3)\n",
      "Batch torch.Size([2, 3, 341, 512])\n",
      "/Users/antoninsumner/Datasets/buildings_sketch_dataset/dataset/imgs/402.png\n",
      "array (341, 512, 3)\n",
      "Batch torch.Size([2, 3, 341, 512])\n",
      "/Users/antoninsumner/Datasets/buildings_sketch_dataset/dataset/imgs/403.png\n",
      "array (512, 512, 3)\n",
      "Batch torch.Size([2, 3, 512, 512])\n",
      "/Users/antoninsumner/Datasets/buildings_sketch_dataset/dataset/imgs/404.png\n",
      "array (341, 512, 3)\n",
      "Batch torch.Size([2, 3, 341, 512])\n",
      "/Users/antoninsumner/Datasets/buildings_sketch_dataset/dataset/imgs/405.png\n",
      "array (443, 512, 3)\n",
      "Batch torch.Size([2, 3, 443, 512])\n",
      "/Users/antoninsumner/Datasets/buildings_sketch_dataset/dataset/imgs/406.png\n",
      "array (512, 341, 3)\n",
      "Batch torch.Size([2, 3, 512, 341])\n",
      "/Users/antoninsumner/Datasets/buildings_sketch_dataset/dataset/imgs/407.png\n",
      "array (512, 341, 3)\n",
      "Batch torch.Size([2, 3, 512, 341])\n",
      "/Users/antoninsumner/Datasets/buildings_sketch_dataset/dataset/imgs/408.png\n",
      "array (512, 512, 3)\n",
      "Batch torch.Size([2, 3, 512, 512])\n",
      "/Users/antoninsumner/Datasets/buildings_sketch_dataset/dataset/imgs/409.png\n",
      "array (341, 512, 3)\n",
      "Batch torch.Size([2, 3, 341, 512])\n",
      "/Users/antoninsumner/Datasets/buildings_sketch_dataset/dataset/imgs/410.png\n",
      "array (512, 512, 3)\n",
      "Batch torch.Size([2, 3, 512, 512])\n",
      "/Users/antoninsumner/Datasets/buildings_sketch_dataset/dataset/imgs/411.png\n",
      "array (384, 512, 3)\n",
      "Batch torch.Size([2, 3, 384, 512])\n",
      "/Users/antoninsumner/Datasets/buildings_sketch_dataset/dataset/imgs/412.png\n",
      "array (512, 341, 3)\n",
      "Batch torch.Size([2, 3, 512, 341])\n",
      "/Users/antoninsumner/Datasets/buildings_sketch_dataset/dataset/imgs/413.png\n",
      "array (512, 384, 3)\n",
      "Batch torch.Size([2, 3, 512, 384])\n",
      "/Users/antoninsumner/Datasets/buildings_sketch_dataset/dataset/imgs/414.png\n",
      "array (512, 303, 3)\n",
      "Batch torch.Size([2, 3, 512, 303])\n",
      "/Users/antoninsumner/Datasets/buildings_sketch_dataset/dataset/imgs/415.png\n",
      "array (512, 512, 3)\n",
      "Batch torch.Size([2, 3, 512, 512])\n",
      "/Users/antoninsumner/Datasets/buildings_sketch_dataset/dataset/imgs/416.png\n",
      "array (387, 512, 3)\n",
      "Batch torch.Size([2, 3, 387, 512])\n",
      "/Users/antoninsumner/Datasets/buildings_sketch_dataset/dataset/imgs/417.png\n",
      "array (358, 512, 3)\n",
      "Batch torch.Size([2, 3, 358, 512])\n",
      "/Users/antoninsumner/Datasets/buildings_sketch_dataset/dataset/imgs/418.png\n",
      "array (512, 340, 3)\n",
      "Batch torch.Size([2, 3, 512, 340])\n",
      "/Users/antoninsumner/Datasets/buildings_sketch_dataset/dataset/imgs/419.png\n",
      "array (404, 512, 3)\n",
      "Batch torch.Size([2, 3, 404, 512])\n",
      "/Users/antoninsumner/Datasets/buildings_sketch_dataset/dataset/imgs/420.png\n",
      "array (512, 341, 3)\n",
      "Batch torch.Size([2, 3, 512, 341])\n",
      "/Users/antoninsumner/Datasets/buildings_sketch_dataset/dataset/imgs/421.png\n",
      "array (409, 512, 3)\n",
      "Batch torch.Size([2, 3, 409, 512])\n",
      "/Users/antoninsumner/Datasets/buildings_sketch_dataset/dataset/imgs/422.png\n",
      "array (512, 449, 3)\n",
      "Batch torch.Size([2, 3, 512, 449])\n",
      "/Users/antoninsumner/Datasets/buildings_sketch_dataset/dataset/imgs/423.png\n",
      "array (369, 512, 3)\n",
      "Batch torch.Size([2, 3, 369, 512])\n",
      "/Users/antoninsumner/Datasets/buildings_sketch_dataset/dataset/imgs/424.png\n",
      "array (512, 512, 3)\n",
      "Batch torch.Size([2, 3, 512, 512])\n",
      "/Users/antoninsumner/Datasets/buildings_sketch_dataset/dataset/imgs/425.png\n",
      "array (512, 441, 3)\n",
      "Batch torch.Size([2, 3, 512, 441])\n",
      "/Users/antoninsumner/Datasets/buildings_sketch_dataset/dataset/imgs/426.png\n",
      "array (384, 512, 3)\n",
      "Batch torch.Size([2, 3, 384, 512])\n",
      "/Users/antoninsumner/Datasets/buildings_sketch_dataset/dataset/imgs/427.png\n",
      "array (341, 512, 3)\n",
      "Batch torch.Size([2, 3, 341, 512])\n",
      "/Users/antoninsumner/Datasets/buildings_sketch_dataset/dataset/imgs/428.png\n",
      "array (512, 409, 3)\n",
      "Batch torch.Size([2, 3, 512, 409])\n",
      "/Users/antoninsumner/Datasets/buildings_sketch_dataset/dataset/imgs/429.png\n",
      "array (512, 512, 3)\n",
      "Batch torch.Size([2, 3, 512, 512])\n",
      "/Users/antoninsumner/Datasets/buildings_sketch_dataset/dataset/imgs/430.png\n",
      "array (384, 512, 3)\n",
      "Batch torch.Size([2, 3, 384, 512])\n",
      "/Users/antoninsumner/Datasets/buildings_sketch_dataset/dataset/imgs/431.png\n",
      "array (368, 512, 3)\n",
      "Batch torch.Size([2, 3, 368, 512])\n",
      "/Users/antoninsumner/Datasets/buildings_sketch_dataset/dataset/imgs/432.png\n",
      "array (512, 341, 3)\n",
      "Batch torch.Size([2, 3, 512, 341])\n",
      "/Users/antoninsumner/Datasets/buildings_sketch_dataset/dataset/imgs/433.png\n",
      "array (512, 387, 3)\n",
      "Batch torch.Size([2, 3, 512, 387])\n",
      "/Users/antoninsumner/Datasets/buildings_sketch_dataset/dataset/imgs/434.png\n",
      "array (367, 512, 3)\n",
      "Batch torch.Size([2, 3, 367, 512])\n",
      "/Users/antoninsumner/Datasets/buildings_sketch_dataset/dataset/imgs/435.png\n",
      "array (512, 341, 3)\n",
      "Batch torch.Size([2, 3, 512, 341])\n",
      "/Users/antoninsumner/Datasets/buildings_sketch_dataset/dataset/imgs/436.png\n",
      "array (512, 341, 3)\n",
      "Batch torch.Size([2, 3, 512, 341])\n",
      "/Users/antoninsumner/Datasets/buildings_sketch_dataset/dataset/imgs/437.png\n",
      "array (398, 512, 3)\n",
      "Batch torch.Size([2, 3, 398, 512])\n",
      "/Users/antoninsumner/Datasets/buildings_sketch_dataset/dataset/imgs/438.png\n",
      "array (512, 379, 3)\n",
      "Batch torch.Size([2, 3, 512, 379])\n",
      "/Users/antoninsumner/Datasets/buildings_sketch_dataset/dataset/imgs/439.png\n",
      "array (512, 341, 3)\n",
      "Batch torch.Size([2, 3, 512, 341])\n",
      "/Users/antoninsumner/Datasets/buildings_sketch_dataset/dataset/imgs/440.png\n",
      "array (512, 384, 3)\n",
      "Batch torch.Size([2, 3, 512, 384])\n",
      "/Users/antoninsumner/Datasets/buildings_sketch_dataset/dataset/imgs/441.png\n",
      "array (512, 342, 3)\n",
      "Batch torch.Size([2, 3, 512, 342])\n",
      "/Users/antoninsumner/Datasets/buildings_sketch_dataset/dataset/imgs/442.png\n",
      "array (512, 458, 3)\n",
      "Batch torch.Size([2, 3, 512, 458])\n",
      "/Users/antoninsumner/Datasets/buildings_sketch_dataset/dataset/imgs/443.png\n",
      "array (384, 512, 4)\n",
      "Batch torch.Size([2, 3, 384, 512])\n",
      "/Users/antoninsumner/Datasets/buildings_sketch_dataset/dataset/imgs/444.png\n",
      "array (512, 341, 3)\n",
      "Batch torch.Size([2, 3, 512, 341])\n",
      "/Users/antoninsumner/Datasets/buildings_sketch_dataset/dataset/imgs/445.png\n",
      "array (390, 512, 3)\n",
      "Batch torch.Size([2, 3, 390, 512])\n",
      "/Users/antoninsumner/Datasets/buildings_sketch_dataset/dataset/imgs/446.png\n",
      "array (512, 385, 3)\n",
      "Batch torch.Size([2, 3, 512, 385])\n",
      "/Users/antoninsumner/Datasets/buildings_sketch_dataset/dataset/imgs/447.png\n",
      "array (321, 512, 3)\n",
      "Batch torch.Size([2, 3, 321, 512])\n",
      "/Users/antoninsumner/Datasets/buildings_sketch_dataset/dataset/imgs/448.png\n",
      "array (512, 341, 3)\n",
      "Batch torch.Size([2, 3, 512, 341])\n",
      "/Users/antoninsumner/Datasets/buildings_sketch_dataset/dataset/imgs/449.png\n",
      "array (341, 512, 4)\n",
      "Batch torch.Size([2, 3, 341, 512])\n",
      "/Users/antoninsumner/Datasets/buildings_sketch_dataset/dataset/imgs/450.png\n",
      "array (236, 512, 4)\n",
      "Batch torch.Size([2, 3, 236, 512])\n",
      "/Users/antoninsumner/Datasets/buildings_sketch_dataset/dataset/imgs/451.png\n",
      "array (512, 412, 3)\n",
      "Batch torch.Size([2, 3, 512, 412])\n",
      "/Users/antoninsumner/Datasets/buildings_sketch_dataset/dataset/imgs/452.png\n",
      "array (319, 512, 3)\n",
      "Batch torch.Size([2, 3, 319, 512])\n",
      "/Users/antoninsumner/Datasets/buildings_sketch_dataset/dataset/imgs/453.png\n",
      "array (512, 407)\n",
      "Batch torch.Size([2, 3, 512, 407])\n",
      "/Users/antoninsumner/Datasets/buildings_sketch_dataset/dataset/imgs/454.png\n",
      "array (512, 341, 3)\n",
      "Batch torch.Size([2, 3, 512, 341])\n",
      "/Users/antoninsumner/Datasets/buildings_sketch_dataset/dataset/imgs/455.png\n",
      "array (512, 341, 3)\n",
      "Batch torch.Size([2, 3, 512, 341])\n",
      "/Users/antoninsumner/Datasets/buildings_sketch_dataset/dataset/imgs/456.png\n",
      "array (512, 324, 3)\n",
      "Batch torch.Size([2, 3, 512, 324])\n",
      "/Users/antoninsumner/Datasets/buildings_sketch_dataset/dataset/imgs/457.png\n",
      "array (512, 340, 3)\n",
      "Batch torch.Size([2, 3, 512, 340])\n",
      "/Users/antoninsumner/Datasets/buildings_sketch_dataset/dataset/imgs/458.png\n",
      "array (512, 354, 3)\n",
      "Batch torch.Size([2, 3, 512, 354])\n",
      "/Users/antoninsumner/Datasets/buildings_sketch_dataset/dataset/imgs/459.png\n",
      "array (413, 512, 3)\n",
      "Batch torch.Size([2, 3, 413, 512])\n",
      "/Users/antoninsumner/Datasets/buildings_sketch_dataset/dataset/imgs/460.png\n",
      "array (409, 512, 3)\n",
      "Batch torch.Size([2, 3, 409, 512])\n",
      "/Users/antoninsumner/Datasets/buildings_sketch_dataset/dataset/imgs/461.png\n",
      "array (512, 341, 3)\n",
      "Batch torch.Size([2, 3, 512, 341])\n",
      "/Users/antoninsumner/Datasets/buildings_sketch_dataset/dataset/imgs/462.png\n",
      "array (512, 349, 3)\n",
      "Batch torch.Size([2, 3, 512, 349])\n",
      "/Users/antoninsumner/Datasets/buildings_sketch_dataset/dataset/imgs/463.png\n",
      "array (512, 317, 3)\n",
      "Batch torch.Size([2, 3, 512, 317])\n",
      "/Users/antoninsumner/Datasets/buildings_sketch_dataset/dataset/imgs/464.png\n",
      "array (512, 341, 3)\n",
      "Batch torch.Size([2, 3, 512, 341])\n",
      "/Users/antoninsumner/Datasets/buildings_sketch_dataset/dataset/imgs/465.png\n",
      "array (512, 341, 3)\n",
      "Batch torch.Size([2, 3, 512, 341])\n",
      "/Users/antoninsumner/Datasets/buildings_sketch_dataset/dataset/imgs/466.png\n",
      "array (512, 339, 3)\n",
      "Batch torch.Size([2, 3, 512, 339])\n",
      "/Users/antoninsumner/Datasets/buildings_sketch_dataset/dataset/imgs/467.png\n",
      "array (254, 512, 3)\n",
      "Batch torch.Size([2, 3, 254, 512])\n",
      "/Users/antoninsumner/Datasets/buildings_sketch_dataset/dataset/imgs/468.png\n",
      "array (512, 341, 3)\n",
      "Batch torch.Size([2, 3, 512, 341])\n",
      "/Users/antoninsumner/Datasets/buildings_sketch_dataset/dataset/imgs/469.png\n",
      "array (512, 349, 3)\n",
      "Batch torch.Size([2, 3, 512, 349])\n",
      "/Users/antoninsumner/Datasets/buildings_sketch_dataset/dataset/imgs/470.png\n",
      "array (512, 361, 3)\n",
      "Batch torch.Size([2, 3, 512, 361])\n",
      "/Users/antoninsumner/Datasets/buildings_sketch_dataset/dataset/imgs/471.png\n",
      "array (512, 340, 3)\n",
      "Batch torch.Size([2, 3, 512, 340])\n",
      "/Users/antoninsumner/Datasets/buildings_sketch_dataset/dataset/imgs/472.png\n",
      "array (286, 512, 3)\n",
      "Batch torch.Size([2, 3, 286, 512])\n",
      "/Users/antoninsumner/Datasets/buildings_sketch_dataset/dataset/imgs/473.png\n",
      "array (351, 512, 3)\n",
      "Batch torch.Size([2, 3, 351, 512])\n",
      "/Users/antoninsumner/Datasets/buildings_sketch_dataset/dataset/imgs/474.png\n",
      "array (512, 512, 3)\n",
      "Batch torch.Size([2, 3, 512, 512])\n",
      "/Users/antoninsumner/Datasets/buildings_sketch_dataset/dataset/imgs/475.png\n",
      "array (512, 392, 3)\n",
      "Batch torch.Size([2, 3, 512, 392])\n",
      "/Users/antoninsumner/Datasets/buildings_sketch_dataset/dataset/imgs/476.png\n",
      "array (480, 512, 3)\n",
      "Batch torch.Size([2, 3, 480, 512])\n",
      "/Users/antoninsumner/Datasets/buildings_sketch_dataset/dataset/imgs/477.png\n",
      "array (512, 409, 3)\n",
      "Batch torch.Size([2, 3, 512, 409])\n",
      "/Users/antoninsumner/Datasets/buildings_sketch_dataset/dataset/imgs/478.png\n",
      "array (417, 512, 3)\n",
      "Batch torch.Size([2, 3, 417, 512])\n",
      "/Users/antoninsumner/Datasets/buildings_sketch_dataset/dataset/imgs/479.png\n",
      "array (217, 512, 3)\n",
      "Batch torch.Size([2, 3, 217, 512])\n",
      "/Users/antoninsumner/Datasets/buildings_sketch_dataset/dataset/imgs/480.png\n",
      "array (329, 512, 3)\n",
      "Batch torch.Size([2, 3, 329, 512])\n",
      "/Users/antoninsumner/Datasets/buildings_sketch_dataset/dataset/imgs/481.png\n",
      "array (512, 362, 3)\n",
      "Batch torch.Size([2, 3, 512, 362])\n",
      "/Users/antoninsumner/Datasets/buildings_sketch_dataset/dataset/imgs/482.png\n",
      "array (489, 512, 3)\n",
      "Batch torch.Size([2, 3, 489, 512])\n",
      "/Users/antoninsumner/Datasets/buildings_sketch_dataset/dataset/imgs/483.png\n",
      "array (439, 512, 3)\n",
      "Batch torch.Size([2, 3, 439, 512])\n",
      "/Users/antoninsumner/Datasets/buildings_sketch_dataset/dataset/imgs/484.png\n",
      "array (512, 366, 3)\n",
      "Batch torch.Size([2, 3, 512, 366])\n",
      "/Users/antoninsumner/Datasets/buildings_sketch_dataset/dataset/imgs/485.png\n",
      "array (512, 341, 3)\n",
      "Batch torch.Size([2, 3, 512, 341])\n",
      "/Users/antoninsumner/Datasets/buildings_sketch_dataset/dataset/imgs/486.png\n",
      "array (512, 332, 3)\n",
      "Batch torch.Size([2, 3, 512, 332])\n",
      "/Users/antoninsumner/Datasets/buildings_sketch_dataset/dataset/imgs/487.png\n",
      "array (512, 512, 3)\n",
      "Batch torch.Size([2, 3, 512, 512])\n",
      "/Users/antoninsumner/Datasets/buildings_sketch_dataset/dataset/imgs/488.png\n",
      "array (512, 343, 3)\n",
      "Batch torch.Size([2, 3, 512, 343])\n",
      "/Users/antoninsumner/Datasets/buildings_sketch_dataset/dataset/imgs/489.png\n",
      "array (393, 512, 3)\n",
      "Batch torch.Size([2, 3, 393, 512])\n",
      "/Users/antoninsumner/Datasets/buildings_sketch_dataset/dataset/imgs/490.png\n",
      "array (341, 512, 3)\n",
      "Batch torch.Size([2, 3, 341, 512])\n",
      "/Users/antoninsumner/Datasets/buildings_sketch_dataset/dataset/imgs/491.png\n",
      "array (295, 512, 3)\n",
      "Batch torch.Size([2, 3, 295, 512])\n",
      "/Users/antoninsumner/Datasets/buildings_sketch_dataset/dataset/imgs/492.png\n",
      "array (512, 510, 3)\n",
      "Batch torch.Size([2, 3, 512, 510])\n",
      "/Users/antoninsumner/Datasets/buildings_sketch_dataset/dataset/imgs/493.png\n",
      "array (512, 290, 3)\n",
      "Batch torch.Size([2, 3, 512, 290])\n",
      "/Users/antoninsumner/Datasets/buildings_sketch_dataset/dataset/imgs/494.png\n",
      "array (439, 512, 3)\n",
      "Batch torch.Size([2, 3, 439, 512])\n",
      "/Users/antoninsumner/Datasets/buildings_sketch_dataset/dataset/imgs/495.png\n",
      "array (480, 512, 3)\n",
      "Batch torch.Size([2, 3, 480, 512])\n",
      "/Users/antoninsumner/Datasets/buildings_sketch_dataset/dataset/imgs/496.png\n",
      "array (403, 512, 3)\n",
      "Batch torch.Size([2, 3, 403, 512])\n",
      "/Users/antoninsumner/Datasets/buildings_sketch_dataset/dataset/imgs/497.png\n",
      "array (512, 341, 3)\n",
      "Batch torch.Size([2, 3, 512, 341])\n",
      "/Users/antoninsumner/Datasets/buildings_sketch_dataset/dataset/imgs/498.png\n",
      "array (512, 492, 3)\n",
      "Batch torch.Size([2, 3, 512, 492])\n",
      "/Users/antoninsumner/Datasets/buildings_sketch_dataset/dataset/imgs/499.png\n",
      "array (512, 383, 3)\n",
      "Batch torch.Size([2, 3, 512, 383])\n",
      "/Users/antoninsumner/Datasets/buildings_sketch_dataset/dataset/imgs/500.png\n",
      "array (512, 340, 3)\n",
      "Batch torch.Size([2, 3, 512, 340])\n",
      "/Users/antoninsumner/Datasets/buildings_sketch_dataset/dataset/imgs/501.png\n",
      "array (512, 341, 3)\n",
      "Batch torch.Size([2, 3, 512, 341])\n",
      "/Users/antoninsumner/Datasets/buildings_sketch_dataset/dataset/imgs/502.png\n",
      "array (512, 341, 3)\n",
      "Batch torch.Size([2, 3, 512, 341])\n",
      "/Users/antoninsumner/Datasets/buildings_sketch_dataset/dataset/imgs/503.png\n",
      "array (340, 512, 3)\n",
      "Batch torch.Size([2, 3, 340, 512])\n",
      "/Users/antoninsumner/Datasets/buildings_sketch_dataset/dataset/imgs/504.png\n",
      "array (512, 341, 3)\n",
      "Batch torch.Size([2, 3, 512, 341])\n",
      "/Users/antoninsumner/Datasets/buildings_sketch_dataset/dataset/imgs/505.png\n",
      "array (409, 512, 3)\n",
      "Batch torch.Size([2, 3, 409, 512])\n",
      "/Users/antoninsumner/Datasets/buildings_sketch_dataset/dataset/imgs/506.png\n",
      "array (512, 478, 3)\n",
      "Batch torch.Size([2, 3, 512, 478])\n",
      "/Users/antoninsumner/Datasets/buildings_sketch_dataset/dataset/imgs/507.png\n",
      "array (341, 512, 3)\n",
      "Batch torch.Size([2, 3, 341, 512])\n",
      "/Users/antoninsumner/Datasets/buildings_sketch_dataset/dataset/imgs/508.png\n",
      "array (341, 512, 3)\n",
      "Batch torch.Size([2, 3, 341, 512])\n",
      "/Users/antoninsumner/Datasets/buildings_sketch_dataset/dataset/imgs/509.png\n",
      "array (512, 361, 3)\n",
      "Batch torch.Size([2, 3, 512, 361])\n",
      "/Users/antoninsumner/Datasets/buildings_sketch_dataset/dataset/imgs/510.png\n",
      "array (512, 292, 3)\n",
      "Batch torch.Size([2, 3, 512, 292])\n",
      "/Users/antoninsumner/Datasets/buildings_sketch_dataset/dataset/imgs/511.png\n",
      "array (383, 512, 3)\n",
      "Batch torch.Size([2, 3, 383, 512])\n",
      "/Users/antoninsumner/Datasets/buildings_sketch_dataset/dataset/imgs/512.png\n",
      "array (418, 512, 3)\n",
      "Batch torch.Size([2, 3, 418, 512])\n",
      "/Users/antoninsumner/Datasets/buildings_sketch_dataset/dataset/imgs/513.png\n",
      "array (512, 415, 3)\n",
      "Batch torch.Size([2, 3, 512, 415])\n",
      "/Users/antoninsumner/Datasets/buildings_sketch_dataset/dataset/imgs/514.png\n",
      "array (512, 341, 3)\n",
      "Batch torch.Size([2, 3, 512, 341])\n",
      "/Users/antoninsumner/Datasets/buildings_sketch_dataset/dataset/imgs/515.png\n",
      "array (341, 512, 3)\n",
      "Batch torch.Size([2, 3, 341, 512])\n",
      "/Users/antoninsumner/Datasets/buildings_sketch_dataset/dataset/imgs/516.png\n",
      "array (512, 348, 3)\n",
      "Batch torch.Size([2, 3, 512, 348])\n",
      "/Users/antoninsumner/Datasets/buildings_sketch_dataset/dataset/imgs/517.png\n",
      "array (341, 512, 3)\n",
      "Batch torch.Size([2, 3, 341, 512])\n",
      "/Users/antoninsumner/Datasets/buildings_sketch_dataset/dataset/imgs/518.png\n",
      "array (512, 315, 3)\n",
      "Batch torch.Size([2, 3, 512, 315])\n",
      "/Users/antoninsumner/Datasets/buildings_sketch_dataset/dataset/imgs/519.png\n",
      "array (341, 512, 3)\n",
      "Batch torch.Size([2, 3, 341, 512])\n",
      "/Users/antoninsumner/Datasets/buildings_sketch_dataset/dataset/imgs/520.png\n",
      "array (512, 363, 3)\n",
      "Batch torch.Size([2, 3, 512, 363])\n",
      "/Users/antoninsumner/Datasets/buildings_sketch_dataset/dataset/imgs/521.png\n",
      "array (384, 512, 3)\n",
      "Batch torch.Size([2, 3, 384, 512])\n",
      "/Users/antoninsumner/Datasets/buildings_sketch_dataset/dataset/imgs/522.png\n",
      "array (512, 451, 3)\n",
      "Batch torch.Size([2, 3, 512, 451])\n",
      "/Users/antoninsumner/Datasets/buildings_sketch_dataset/dataset/imgs/523.png\n",
      "array (512, 460, 3)\n",
      "Batch torch.Size([2, 3, 512, 460])\n",
      "/Users/antoninsumner/Datasets/buildings_sketch_dataset/dataset/imgs/524.png\n",
      "array (512, 383, 3)\n",
      "Batch torch.Size([2, 3, 512, 383])\n",
      "/Users/antoninsumner/Datasets/buildings_sketch_dataset/dataset/imgs/525.png\n",
      "array (341, 512, 3)\n",
      "Batch torch.Size([2, 3, 341, 512])\n",
      "/Users/antoninsumner/Datasets/buildings_sketch_dataset/dataset/imgs/526.png\n",
      "array (380, 512, 3)\n",
      "Batch torch.Size([2, 3, 380, 512])\n",
      "/Users/antoninsumner/Datasets/buildings_sketch_dataset/dataset/imgs/527.png\n",
      "array (512, 341, 3)\n",
      "Batch torch.Size([2, 3, 512, 341])\n",
      "/Users/antoninsumner/Datasets/buildings_sketch_dataset/dataset/imgs/528.png\n",
      "array (350, 512, 3)\n",
      "Batch torch.Size([2, 3, 350, 512])\n",
      "/Users/antoninsumner/Datasets/buildings_sketch_dataset/dataset/imgs/529.png\n",
      "array (344, 512, 3)\n",
      "Batch torch.Size([2, 3, 344, 512])\n",
      "/Users/antoninsumner/Datasets/buildings_sketch_dataset/dataset/imgs/530.png\n",
      "array (504, 512, 3)\n",
      "Batch torch.Size([2, 3, 504, 512])\n",
      "/Users/antoninsumner/Datasets/buildings_sketch_dataset/dataset/imgs/531.png\n",
      "array (455, 512, 3)\n",
      "Batch torch.Size([2, 3, 455, 512])\n",
      "/Users/antoninsumner/Datasets/buildings_sketch_dataset/dataset/imgs/532.png\n",
      "array (512, 339, 3)\n",
      "Batch torch.Size([2, 3, 512, 339])\n",
      "/Users/antoninsumner/Datasets/buildings_sketch_dataset/dataset/imgs/533.png\n",
      "array (512, 339, 3)\n",
      "Batch torch.Size([2, 3, 512, 339])\n",
      "/Users/antoninsumner/Datasets/buildings_sketch_dataset/dataset/imgs/534.png\n",
      "array (283, 512, 3)\n",
      "Batch torch.Size([2, 3, 283, 512])\n",
      "/Users/antoninsumner/Datasets/buildings_sketch_dataset/dataset/imgs/535.png\n",
      "array (341, 512, 3)\n",
      "Batch torch.Size([2, 3, 341, 512])\n",
      "/Users/antoninsumner/Datasets/buildings_sketch_dataset/dataset/imgs/536.png\n",
      "array (365, 512, 3)\n",
      "Batch torch.Size([2, 3, 365, 512])\n",
      "/Users/antoninsumner/Datasets/buildings_sketch_dataset/dataset/imgs/537.png\n",
      "array (512, 431, 3)\n",
      "Batch torch.Size([2, 3, 512, 431])\n",
      "/Users/antoninsumner/Datasets/buildings_sketch_dataset/dataset/imgs/538.png\n",
      "array (384, 512, 3)\n",
      "Batch torch.Size([2, 3, 384, 512])\n",
      "/Users/antoninsumner/Datasets/buildings_sketch_dataset/dataset/imgs/539.png\n",
      "array (410, 512, 3)\n",
      "Batch torch.Size([2, 3, 410, 512])\n",
      "/Users/antoninsumner/Datasets/buildings_sketch_dataset/dataset/imgs/540.png\n",
      "array (367, 512, 3)\n",
      "Batch torch.Size([2, 3, 367, 512])\n",
      "/Users/antoninsumner/Datasets/buildings_sketch_dataset/dataset/imgs/541.png\n",
      "array (512, 391, 3)\n",
      "Batch torch.Size([2, 3, 512, 391])\n",
      "/Users/antoninsumner/Datasets/buildings_sketch_dataset/dataset/imgs/542.png\n",
      "array (512, 379, 3)\n",
      "Batch torch.Size([2, 3, 512, 379])\n",
      "/Users/antoninsumner/Datasets/buildings_sketch_dataset/dataset/imgs/543.png\n",
      "array (512, 409, 3)\n",
      "Batch torch.Size([2, 3, 512, 409])\n",
      "/Users/antoninsumner/Datasets/buildings_sketch_dataset/dataset/imgs/544.png\n",
      "array (512, 341, 3)\n",
      "Batch torch.Size([2, 3, 512, 341])\n",
      "/Users/antoninsumner/Datasets/buildings_sketch_dataset/dataset/imgs/545.png\n",
      "array (512, 378, 3)\n",
      "Batch torch.Size([2, 3, 512, 378])\n",
      "/Users/antoninsumner/Datasets/buildings_sketch_dataset/dataset/imgs/546.png\n",
      "array (512, 316, 3)\n",
      "Batch torch.Size([2, 3, 512, 316])\n",
      "/Users/antoninsumner/Datasets/buildings_sketch_dataset/dataset/imgs/547.png\n",
      "array (512, 376, 3)\n",
      "Batch torch.Size([2, 3, 512, 376])\n",
      "/Users/antoninsumner/Datasets/buildings_sketch_dataset/dataset/imgs/548.png\n",
      "array (512, 508, 3)\n",
      "Batch torch.Size([2, 3, 512, 508])\n",
      "/Users/antoninsumner/Datasets/buildings_sketch_dataset/dataset/imgs/549.png\n",
      "array (340, 512, 3)\n",
      "Batch torch.Size([2, 3, 340, 512])\n",
      "/Users/antoninsumner/Datasets/buildings_sketch_dataset/dataset/imgs/550.png\n",
      "array (512, 407, 3)\n",
      "Batch torch.Size([2, 3, 512, 407])\n",
      "/Users/antoninsumner/Datasets/buildings_sketch_dataset/dataset/imgs/551.png\n",
      "array (512, 384, 3)\n",
      "Batch torch.Size([2, 3, 512, 384])\n",
      "/Users/antoninsumner/Datasets/buildings_sketch_dataset/dataset/imgs/552.png\n",
      "array (512, 512, 3)\n",
      "Batch torch.Size([2, 3, 512, 512])\n",
      "/Users/antoninsumner/Datasets/buildings_sketch_dataset/dataset/imgs/553.png\n",
      "array (512, 341, 3)\n",
      "Batch torch.Size([2, 3, 512, 341])\n",
      "/Users/antoninsumner/Datasets/buildings_sketch_dataset/dataset/imgs/554.png\n",
      "array (400, 512, 3)\n",
      "Batch torch.Size([2, 3, 400, 512])\n",
      "/Users/antoninsumner/Datasets/buildings_sketch_dataset/dataset/imgs/555.png\n",
      "array (512, 399, 3)\n",
      "Batch torch.Size([2, 3, 512, 399])\n",
      "/Users/antoninsumner/Datasets/buildings_sketch_dataset/dataset/imgs/556.png\n",
      "array (512, 392, 3)\n",
      "Batch torch.Size([2, 3, 512, 392])\n",
      "/Users/antoninsumner/Datasets/buildings_sketch_dataset/dataset/imgs/557.png\n"
     ]
    },
    {
     "ename": "OSError",
     "evalue": "cannot write mode CMYK as PNG",
     "output_type": "error",
     "traceback": [
      "\u001b[0;31m---------------------------------------------------------------------------\u001b[0m",
      "\u001b[0;31mKeyError\u001b[0m                                  Traceback (most recent call last)",
      "\u001b[0;32m/opt/miniconda3/envs/fastai2/lib/python3.7/site-packages/PIL/PngImagePlugin.py\u001b[0m in \u001b[0;36m_save\u001b[0;34m(im, fp, filename, chunk)\u001b[0m\n\u001b[1;32m    790\u001b[0m     \u001b[0;32mtry\u001b[0m\u001b[0;34m:\u001b[0m\u001b[0;34m\u001b[0m\u001b[0;34m\u001b[0m\u001b[0m\n\u001b[0;32m--> 791\u001b[0;31m         \u001b[0mrawmode\u001b[0m\u001b[0;34m,\u001b[0m \u001b[0mmode\u001b[0m \u001b[0;34m=\u001b[0m \u001b[0m_OUTMODES\u001b[0m\u001b[0;34m[\u001b[0m\u001b[0mmode\u001b[0m\u001b[0;34m]\u001b[0m\u001b[0;34m\u001b[0m\u001b[0;34m\u001b[0m\u001b[0m\n\u001b[0m\u001b[1;32m    792\u001b[0m     \u001b[0;32mexcept\u001b[0m \u001b[0mKeyError\u001b[0m\u001b[0;34m:\u001b[0m\u001b[0;34m\u001b[0m\u001b[0;34m\u001b[0m\u001b[0m\n",
      "\u001b[0;31mKeyError\u001b[0m: 'CMYK'",
      "\nDuring handling of the above exception, another exception occurred:\n",
      "\u001b[0;31mOSError\u001b[0m                                   Traceback (most recent call last)",
      "\u001b[0;32m<ipython-input-50-4551de57f899>\u001b[0m in \u001b[0;36m<module>\u001b[0;34m\u001b[0m\n\u001b[0;32m----> 1\u001b[0;31m \u001b[0mmake_preds\u001b[0m\u001b[0;34m(\u001b[0m\u001b[0mdexined_model\u001b[0m\u001b[0;34m,\u001b[0m \u001b[0msrc_imgs\u001b[0m\u001b[0;34m.\u001b[0m\u001b[0mls\u001b[0m\u001b[0;34m(\u001b[0m\u001b[0;34m)\u001b[0m\u001b[0;34m,\u001b[0m \u001b[0mp\u001b[0m\u001b[0;34m)\u001b[0m\u001b[0;34m\u001b[0m\u001b[0;34m\u001b[0m\u001b[0m\n\u001b[0m",
      "\u001b[0;32m<ipython-input-49-2a46cfe936ff>\u001b[0m in \u001b[0;36mmake_preds\u001b[0;34m(m, fns, dest, img_size)\u001b[0m\n\u001b[1;32m     12\u001b[0m         \u001b[0mimg\u001b[0m \u001b[0;34m=\u001b[0m \u001b[0mImage\u001b[0m\u001b[0;34m.\u001b[0m\u001b[0mopen\u001b[0m\u001b[0;34m(\u001b[0m\u001b[0mfns\u001b[0m\u001b[0;34m[\u001b[0m\u001b[0mi\u001b[0m\u001b[0;34m]\u001b[0m\u001b[0;34m)\u001b[0m\u001b[0;34m\u001b[0m\u001b[0;34m\u001b[0m\u001b[0m\n\u001b[1;32m     13\u001b[0m         \u001b[0mimg\u001b[0m \u001b[0;34m=\u001b[0m \u001b[0mresize_same\u001b[0m\u001b[0;34m(\u001b[0m\u001b[0mimg\u001b[0m\u001b[0;34m,\u001b[0m \u001b[0msize\u001b[0m\u001b[0;34m=\u001b[0m\u001b[0mimg_size\u001b[0m\u001b[0;34m)\u001b[0m\u001b[0;34m\u001b[0m\u001b[0;34m\u001b[0m\u001b[0m\n\u001b[0;32m---> 14\u001b[0;31m         \u001b[0mimg\u001b[0m\u001b[0;34m.\u001b[0m\u001b[0msave\u001b[0m\u001b[0;34m(\u001b[0m\u001b[0mstr\u001b[0m\u001b[0;34m(\u001b[0m\u001b[0mfile\u001b[0m\u001b[0;34m)\u001b[0m\u001b[0;34m)\u001b[0m\u001b[0;34m\u001b[0m\u001b[0;34m\u001b[0m\u001b[0m\n\u001b[0m\u001b[1;32m     15\u001b[0m \u001b[0;34m\u001b[0m\u001b[0m\n\u001b[1;32m     16\u001b[0m         \u001b[0mb\u001b[0m \u001b[0;34m=\u001b[0m \u001b[0mbatch_one\u001b[0m\u001b[0;34m(\u001b[0m\u001b[0mimg\u001b[0m\u001b[0;34m)\u001b[0m\u001b[0;34m\u001b[0m\u001b[0;34m\u001b[0m\u001b[0m\n",
      "\u001b[0;32m/opt/miniconda3/envs/fastai2/lib/python3.7/site-packages/PIL/Image.py\u001b[0m in \u001b[0;36msave\u001b[0;34m(self, fp, format, **params)\u001b[0m\n\u001b[1;32m   2100\u001b[0m \u001b[0;34m\u001b[0m\u001b[0m\n\u001b[1;32m   2101\u001b[0m         \u001b[0;32mtry\u001b[0m\u001b[0;34m:\u001b[0m\u001b[0;34m\u001b[0m\u001b[0;34m\u001b[0m\u001b[0m\n\u001b[0;32m-> 2102\u001b[0;31m             \u001b[0msave_handler\u001b[0m\u001b[0;34m(\u001b[0m\u001b[0mself\u001b[0m\u001b[0;34m,\u001b[0m \u001b[0mfp\u001b[0m\u001b[0;34m,\u001b[0m \u001b[0mfilename\u001b[0m\u001b[0;34m)\u001b[0m\u001b[0;34m\u001b[0m\u001b[0;34m\u001b[0m\u001b[0m\n\u001b[0m\u001b[1;32m   2103\u001b[0m         \u001b[0;32mfinally\u001b[0m\u001b[0;34m:\u001b[0m\u001b[0;34m\u001b[0m\u001b[0;34m\u001b[0m\u001b[0m\n\u001b[1;32m   2104\u001b[0m             \u001b[0;31m# do what we can to clean up\u001b[0m\u001b[0;34m\u001b[0m\u001b[0;34m\u001b[0m\u001b[0;34m\u001b[0m\u001b[0m\n",
      "\u001b[0;32m/opt/miniconda3/envs/fastai2/lib/python3.7/site-packages/PIL/PngImagePlugin.py\u001b[0m in \u001b[0;36m_save\u001b[0;34m(im, fp, filename, chunk)\u001b[0m\n\u001b[1;32m    791\u001b[0m         \u001b[0mrawmode\u001b[0m\u001b[0;34m,\u001b[0m \u001b[0mmode\u001b[0m \u001b[0;34m=\u001b[0m \u001b[0m_OUTMODES\u001b[0m\u001b[0;34m[\u001b[0m\u001b[0mmode\u001b[0m\u001b[0;34m]\u001b[0m\u001b[0;34m\u001b[0m\u001b[0;34m\u001b[0m\u001b[0m\n\u001b[1;32m    792\u001b[0m     \u001b[0;32mexcept\u001b[0m \u001b[0mKeyError\u001b[0m\u001b[0;34m:\u001b[0m\u001b[0;34m\u001b[0m\u001b[0;34m\u001b[0m\u001b[0m\n\u001b[0;32m--> 793\u001b[0;31m         \u001b[0;32mraise\u001b[0m \u001b[0mOSError\u001b[0m\u001b[0;34m(\u001b[0m\u001b[0;34m\"cannot write mode %s as PNG\"\u001b[0m \u001b[0;34m%\u001b[0m \u001b[0mmode\u001b[0m\u001b[0;34m)\u001b[0m\u001b[0;34m\u001b[0m\u001b[0;34m\u001b[0m\u001b[0m\n\u001b[0m\u001b[1;32m    794\u001b[0m \u001b[0;34m\u001b[0m\u001b[0m\n\u001b[1;32m    795\u001b[0m     \u001b[0;31m#\u001b[0m\u001b[0;34m\u001b[0m\u001b[0;34m\u001b[0m\u001b[0;34m\u001b[0m\u001b[0m\n",
      "\u001b[0;31mOSError\u001b[0m: cannot write mode CMYK as PNG"
     ]
    }
   ],
   "source": [
    "make_preds(dexined_model, src_imgs.ls(), p)"
   ]
  },
  {
   "cell_type": "code",
   "execution_count": null,
   "metadata": {
    "Collapsed": "false"
   },
   "outputs": [],
   "source": []
  },
  {
   "cell_type": "code",
   "execution_count": null,
   "metadata": {
    "Collapsed": "false"
   },
   "outputs": [],
   "source": []
  }
 ],
 "metadata": {
  "kernelspec": {
   "display_name": "Python [conda env:fastai2]",
   "language": "python",
   "name": "conda-env-fastai2-py"
  },
  "language_info": {
   "codemirror_mode": {
    "name": "ipython",
    "version": 3
   },
   "file_extension": ".py",
   "mimetype": "text/x-python",
   "name": "python",
   "nbconvert_exporter": "python",
   "pygments_lexer": "ipython3",
   "version": "3.7.7"
  }
 },
 "nbformat": 4,
 "nbformat_minor": 4
}
